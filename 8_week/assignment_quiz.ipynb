{
 "cells": [
  {
   "cell_type": "code",
   "execution_count": 57,
   "metadata": {},
   "outputs": [],
   "source": [
    "# Question 2.2\n",
    "# Given centroids:\n",
    "# c1 = [1,2]\n",
    "# c2 = [4,2]\n",
    "\n",
    "\n",
    "x1 = [1,1,1,4,4,4,2,8,8,8,10,10,10]\n",
    "x2 = [2,4,0,2,4,0,1,2,4,0,2,4,0]\n"
   ]
  },
  {
   "cell_type": "code",
   "execution_count": 58,
   "metadata": {},
   "outputs": [
    {
     "name": "stdout",
     "output_type": "stream",
     "text": [
      "Data:  [[1, 2], [1, 4], [1, 0], [4, 2], [4, 4], [4, 0], [2, 1], [8, 2], [8, 4], [8, 0], [10, 2], [10, 4], [10, 0]]\n",
      "centroid:  [[1, 2], [4, 2]]\n"
     ]
    }
   ],
   "source": [
    "data = []\n",
    "for idx in range(len(x1)):\n",
    "    data.append([x1[idx],x2[idx]])\n",
    "\n",
    "\n",
    "centroids = [[1,2],[4,2]]\n",
    "\n",
    "print(\"Data: \" ,data)\n",
    "print(\"centroid: \", centroids)"
   ]
  },
  {
   "cell_type": "code",
   "execution_count": 59,
   "metadata": {},
   "outputs": [
    {
     "name": "stdout",
     "output_type": "stream",
     "text": [
      "Centroid Assignment after iteration :  0  :  ['c1', 'c1', 'c1', 'c2', 'c2', 'c2', 'c1', 'c2', 'c2', 'c2', 'c2', 'c2', 'c2']\n",
      "Updated centroid 1:  [1.25, 1.75]\n",
      "Updated centroid 2:  [7.333333333333333, 2.0]\n",
      "['c1', 'c1', 'c1', 'c2', 'c2', 'c2', 'c1', 'c2', 'c2', 'c2', 'c2', 'c2', 'c2']\n"
     ]
    }
   ],
   "source": [
    "import math\n",
    "\"\"\"\n",
    "Q1: Cluster Assignments\n",
    "After completing one iteration of the algorithm, what are the cluster assignments for the\n",
    "Cluster B.\n",
    "points? Write A in the table below if the point is assigned to Cluster A or B if assigned to\n",
    "\"\"\"\n",
    "\n",
    "# this k_means code, is correct only for 1 iteration\n",
    "# not optimized for space and time complexity\n",
    "# be aware !!!\n",
    "\n",
    "def k_means(data, centroids, iterations):\n",
    "    centroid_assignment = []\n",
    "    c1 = centroids[0]\n",
    "    c2 = centroids[1]\n",
    "\n",
    "    for idx in range(iterations):\n",
    "        # we first calculate distance of each point to a centroid\n",
    "        for point in data:\n",
    "            dist_c1 = math.sqrt(((c1[0]-point[0])**2)+((c1[1]-point[1])**2))\n",
    "            dist_c2 = math.sqrt(((c2[0]-point[0])**2)+((c2[1]-point[1])**2))\n",
    "            if dist_c1<=dist_c2:\n",
    "                centroid_assignment.append(\"c1\") # appending is incorrect, when using multiple iteration\n",
    "            else:\n",
    "                centroid_assignment.append(\"c2\")\n",
    "\n",
    "        print(\"Centroid Assignment after iteration : \", idx, \" : \", centroid_assignment)    \n",
    "\n",
    "        # now we need to update the centroids:\n",
    "        # can optimize this entire stuff\n",
    "        update_c1 = [0, 0]\n",
    "        c1_len = 0\n",
    "        update_c2 = [0, 0]\n",
    "        c2_len = 0\n",
    "        for idx in range(len(centroid_assignment)):\n",
    "            if(centroid_assignment[idx]==\"c1\"):\n",
    "                update_c1[0] += data[idx][0]\n",
    "                update_c1[1] += data[idx][1]\n",
    "                c1_len+=1\n",
    "            else:\n",
    "                update_c2[0] += data[idx][0]\n",
    "                update_c2[1] += data[idx][1]\n",
    "                c2_len += 1\n",
    "        \n",
    "\n",
    "\n",
    "        # division for zero not checked\n",
    "\n",
    "        update_c1[0] = update_c1[0]/float((c1_len))\n",
    "        update_c1[1] = update_c1[1]/float((c1_len))\n",
    "\n",
    "        update_c2[0] = update_c2[0]/float((c2_len))\n",
    "        update_c2[1] = update_c2[1]/float((c2_len))\n",
    "\n",
    "        print(\"Updated centroid 1: \", update_c1)\n",
    "        print(\"Updated centroid 2: \", update_c2)\n",
    "\n",
    "\n",
    "    return centroid_assignment\n",
    "\n",
    "\n",
    "centroid_assignment = k_means(data=data, centroids=centroids, iterations=1)\n",
    "print(centroid_assignment)\n",
    "\n"
   ]
  },
  {
   "cell_type": "code",
   "execution_count": 60,
   "metadata": {},
   "outputs": [
    {
     "name": "stdout",
     "output_type": "stream",
     "text": [
      "[1, 2]\n",
      "[1, 4]\n",
      "[1, 0]\n",
      "[4, 2]\n",
      "[4, 4]\n",
      "[4, 0]\n",
      "[2, 1]\n",
      "[8, 2]\n",
      "[8, 4]\n",
      "[8, 0]\n",
      "[10, 2]\n",
      "[10, 4]\n",
      "[10, 0]\n"
     ]
    }
   ],
   "source": [
    "for val in data:\n",
    "    print(val)"
   ]
  },
  {
   "cell_type": "code",
   "execution_count": 61,
   "metadata": {},
   "outputs": [
    {
     "name": "stdout",
     "output_type": "stream",
     "text": [
      "Data:  [[40, 2], [1, 4], [1, 0], [4, 2], [4, 4], [4, 0], [2, 1], [8, 2], [8, 4], [8, 0], [10, 2], [10, 4], [10, 0]]\n",
      "centroid:  [[1, 2], [40, 2]]\n"
     ]
    }
   ],
   "source": [
    "\"\"\"\n",
    "2.3 K-means with Outlier\n",
    "You are given the following 2D points that need to be clustered with the K-means algorithm\n",
    "using the Euclidean distance. Assume that K = 2 and the initial centroids are:\n",
    "• Centroid A for Cluster A: [1, 2]\n",
    "• Centroid B for Cluster B: [40, 2]\n",
    "\"\"\"\n",
    "\n",
    "x1 = [40,1,1,4,4,4,2,8,8,8,10,10,10]\n",
    "x2 = [2,4,0,2,4,0,1,2,4,0,2,4,0]\n",
    "\n",
    "data = []\n",
    "for idx in range(len(x1)):\n",
    "    data.append([x1[idx],x2[idx]])\n",
    "\n",
    "\n",
    "centroids = [[1,2],[40,2]]\n",
    "\n",
    "print(\"Data: \" ,data)\n",
    "print(\"centroid: \", centroids)"
   ]
  },
  {
   "cell_type": "code",
   "execution_count": 62,
   "metadata": {},
   "outputs": [
    {
     "name": "stdout",
     "output_type": "stream",
     "text": [
      "Centroid Assignment after iteration :  0  :  ['c2', 'c1', 'c1', 'c1', 'c1', 'c1', 'c1', 'c1', 'c1', 'c1', 'c1', 'c1', 'c1']\n",
      "Updated centroid 1:  [5.833333333333333, 1.9166666666666667]\n",
      "Updated centroid 2:  [40.0, 2.0]\n",
      "['c2', 'c1', 'c1', 'c1', 'c1', 'c1', 'c1', 'c1', 'c1', 'c1', 'c1', 'c1', 'c1']\n"
     ]
    }
   ],
   "source": [
    "\"\"\"\n",
    "Q1. Cluster Assignments\n",
    "After completing one iteration of the algorithm, what are the cluster assignments for the\n",
    "points? Write A in the table below if the point is assigned to Cluster A or B if assigned to\n",
    "Cluster B.\n",
    "\"\"\"\n",
    "\n",
    "centroid_assignment = k_means(data=data, centroids=centroids, iterations=1)\n",
    "print(centroid_assignment)"
   ]
  },
  {
   "cell_type": "code",
   "execution_count": null,
   "metadata": {},
   "outputs": [],
   "source": []
  },
  {
   "cell_type": "code",
   "execution_count": null,
   "metadata": {},
   "outputs": [],
   "source": []
  }
 ],
 "metadata": {
  "kernelspec": {
   "display_name": "env_first",
   "language": "python",
   "name": "python3"
  },
  "language_info": {
   "codemirror_mode": {
    "name": "ipython",
    "version": 3
   },
   "file_extension": ".py",
   "mimetype": "text/x-python",
   "name": "python",
   "nbconvert_exporter": "python",
   "pygments_lexer": "ipython3",
   "version": "3.9.21"
  }
 },
 "nbformat": 4,
 "nbformat_minor": 2
}
