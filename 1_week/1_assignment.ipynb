{
 "cells": [
  {
   "cell_type": "code",
   "execution_count": null,
   "metadata": {},
   "outputs": [
    {
     "data": {
      "text/plain": [
       "' \\nAssume you have a sales dataset (download available here) in a CSV file named\\n\\nA company or shop outlet provided us the sales data, extract meaningful insights from the data\\n\\n\\nsales data.csv with the following columns:\\n• OrderID: Identifier for each order. Each order can have more than one product.\\n• ProductCode: Product code.\\n• QuantityOrdered: Number of product units ordered.\\n• PriceEach: Price per unit.\\n• OrderDate: Date on which the order was placed.\\n• City: City where the order was placed.\\n\\n\\nComplete the following tasks:\\n(a) Load the sales data into a pandas DataFrame.\\n(b) Display the first 5 rows of the dataset.\\n(c) Check for any missing values in the dataset.\\n\\n(d) Add a new column TotalSales that contains the total sales for each prod-\\nuct of an order (i.e., QuantityOrdered * PriceEach).\\n\\n(e) Find the total sales across all orders.\\n\\n\\n(f) Identify the product that generated the highest total sales (across all or-\\nders).\\n\\n\\n(g) Find the average sales per order.\\n(h) Determine the city with the highest number of orders.\\n(i) Plot a bar chart showing total sales per city.\\n(j) Save the dataframe in a new file with the name modified sales data.csv.\\nAlso, answer the following questions.\\n(a) What is the total sales across all orders? (Task 5 (e)):\\n(b) Which is the product (ProductCode) that generated the highest total sales\\n(across all orders)? (Task 6 (f)):\\n(c) What is the average sales per order? (Task 7 (g)):\\n(d) Which is the city with the highest number of orders? Give the name\\nwithout quotation marks or spaces. (Task 8 (h)):\\n(e) How many unique orders were received from the city in the previous ques-\\ntion? (Task 8 (h)):\\n'"
      ]
     },
     "execution_count": 1,
     "metadata": {},
     "output_type": "execute_result"
    }
   ],
   "source": [
    "\"\"\" \n",
    "Assume you have a sales dataset (download available here) in a CSV file named\n",
    "\n",
    "A company or shop outlet provided us the sales data, extract meaningful insights from the data\n",
    "\n",
    "\n",
    "sales data.csv with the following columns:\n",
    "• OrderID: Identifier for each order. Each order can have more than one product.\n",
    "• ProductCode: Product code.\n",
    "• QuantityOrdered: Number of product units ordered.\n",
    "• PriceEach: Price per unit.\n",
    "• OrderDate: Date on which the order was placed.\n",
    "• City: City where the order was placed.\n",
    "\n",
    "\n",
    "Complete the following tasks:\n",
    "(a) Load the sales data into a pandas DataFrame.\n",
    "(b) Display the first 5 rows of the dataset.\n",
    "(c) Check for any missing values in the dataset.\n",
    "\n",
    "(d) Add a new column TotalSales that contains the total sales for each prod-\n",
    "uct of an order (i.e., QuantityOrdered * PriceEach).\n",
    "\n",
    "(e) Find the total sales across all orders.\n",
    "\n",
    "\n",
    "(f) Identify the product that generated the highest total sales (across all or-\n",
    "ders).\n",
    "\n",
    "\n",
    "(g) Find the average sales per order.\n",
    "\n",
    "(h) Determine the city with the highest number of orders.\n",
    "(i) Plot a bar chart showing total sales per city.\n",
    "(j) Save the dataframe in a new file with the name modified sales data.csv.\n",
    "\n",
    "\n",
    "Also, answer the following questions.\n",
    "(a) What is the total sales across all orders? (Task 5 (e)):\n",
    "(b) Which is the product (ProductCode) that generated the highest total sales\n",
    "(across all orders)? (Task 6 (f)):\n",
    "(c) What is the average sales per order? (Task 7 (g)):\n",
    "(d) Which is the city with the highest number of orders? Give the name\n",
    "without quotation marks or spaces. (Task 8 (h)):\n",
    "(e) How many unique orders were received from the city in the previous ques-\n",
    "tion? (Task 8 (h)):\n",
    "\"\"\""
   ]
  },
  {
   "cell_type": "code",
   "execution_count": 2,
   "metadata": {},
   "outputs": [],
   "source": [
    "import pandas as pd\n",
    "file_path = \"./sales_data.csv\"\n",
    "df = pd.read_csv(file_path, delimiter = \";\")"
   ]
  },
  {
   "cell_type": "code",
   "execution_count": 3,
   "metadata": {},
   "outputs": [
    {
     "data": {
      "text/html": [
       "<div>\n",
       "<style scoped>\n",
       "    .dataframe tbody tr th:only-of-type {\n",
       "        vertical-align: middle;\n",
       "    }\n",
       "\n",
       "    .dataframe tbody tr th {\n",
       "        vertical-align: top;\n",
       "    }\n",
       "\n",
       "    .dataframe thead th {\n",
       "        text-align: right;\n",
       "    }\n",
       "</style>\n",
       "<table border=\"1\" class=\"dataframe\">\n",
       "  <thead>\n",
       "    <tr style=\"text-align: right;\">\n",
       "      <th></th>\n",
       "      <th>OrderID</th>\n",
       "      <th>ProductCode</th>\n",
       "      <th>QuantityOrdered</th>\n",
       "      <th>PriceEach</th>\n",
       "      <th>OrderDate</th>\n",
       "      <th>City</th>\n",
       "      <th>Country</th>\n",
       "    </tr>\n",
       "  </thead>\n",
       "  <tbody>\n",
       "    <tr>\n",
       "      <th>0</th>\n",
       "      <td>10145</td>\n",
       "      <td>S10_1678</td>\n",
       "      <td>45</td>\n",
       "      <td>83.26</td>\n",
       "      <td>8/25/2003 0:00</td>\n",
       "      <td>Pasadena</td>\n",
       "      <td>USA</td>\n",
       "    </tr>\n",
       "    <tr>\n",
       "      <th>1</th>\n",
       "      <td>10159</td>\n",
       "      <td>S10_1678</td>\n",
       "      <td>49</td>\n",
       "      <td>100</td>\n",
       "      <td>10.10.03 00:00</td>\n",
       "      <td>San Francisco</td>\n",
       "      <td>USA</td>\n",
       "    </tr>\n",
       "    <tr>\n",
       "      <th>2</th>\n",
       "      <td>10168</td>\n",
       "      <td>S10_1678</td>\n",
       "      <td>36</td>\n",
       "      <td>96.66</td>\n",
       "      <td>10/28/2003 0:00</td>\n",
       "      <td>Burlingame</td>\n",
       "      <td>USA</td>\n",
       "    </tr>\n",
       "    <tr>\n",
       "      <th>3</th>\n",
       "      <td>10180</td>\n",
       "      <td>S10_1678</td>\n",
       "      <td>29</td>\n",
       "      <td>86.13</td>\n",
       "      <td>11.11.03 00:00</td>\n",
       "      <td>Lille</td>\n",
       "      <td>France</td>\n",
       "    </tr>\n",
       "    <tr>\n",
       "      <th>4</th>\n",
       "      <td>10188</td>\n",
       "      <td>S10_1678</td>\n",
       "      <td>48</td>\n",
       "      <td>100</td>\n",
       "      <td>11/18/2003 0:00</td>\n",
       "      <td>Bergen</td>\n",
       "      <td>Norway</td>\n",
       "    </tr>\n",
       "  </tbody>\n",
       "</table>\n",
       "</div>"
      ],
      "text/plain": [
       "   OrderID ProductCode  QuantityOrdered PriceEach        OrderDate  \\\n",
       "0    10145    S10_1678               45     83.26   8/25/2003 0:00   \n",
       "1    10159    S10_1678               49       100   10.10.03 00:00   \n",
       "2    10168    S10_1678               36     96.66  10/28/2003 0:00   \n",
       "3    10180    S10_1678               29     86.13   11.11.03 00:00   \n",
       "4    10188    S10_1678               48       100  11/18/2003 0:00   \n",
       "\n",
       "            City Country  \n",
       "0       Pasadena     USA  \n",
       "1  San Francisco     USA  \n",
       "2     Burlingame     USA  \n",
       "3          Lille  France  \n",
       "4         Bergen  Norway  "
      ]
     },
     "execution_count": 3,
     "metadata": {},
     "output_type": "execute_result"
    }
   ],
   "source": [
    "df.head(5)"
   ]
  },
  {
   "cell_type": "code",
   "execution_count": 4,
   "metadata": {},
   "outputs": [
    {
     "name": "stdout",
     "output_type": "stream",
     "text": [
      "<class 'pandas.core.frame.DataFrame'>\n",
      "RangeIndex: 2810 entries, 0 to 2809\n",
      "Data columns (total 7 columns):\n",
      " #   Column           Non-Null Count  Dtype \n",
      "---  ------           --------------  ----- \n",
      " 0   OrderID          2810 non-null   int64 \n",
      " 1   ProductCode      2810 non-null   object\n",
      " 2   QuantityOrdered  2810 non-null   int64 \n",
      " 3   PriceEach        2810 non-null   object\n",
      " 4   OrderDate        2810 non-null   object\n",
      " 5   City             2810 non-null   object\n",
      " 6   Country          2810 non-null   object\n",
      "dtypes: int64(2), object(5)\n",
      "memory usage: 153.8+ KB\n"
     ]
    }
   ],
   "source": [
    "df.info()"
   ]
  },
  {
   "cell_type": "code",
   "execution_count": 5,
   "metadata": {},
   "outputs": [
    {
     "data": {
      "text/plain": [
       "OrderID            2810\n",
       "ProductCode        2810\n",
       "QuantityOrdered    2810\n",
       "PriceEach          2810\n",
       "OrderDate          2810\n",
       "City               2810\n",
       "Country            2810\n",
       "dtype: int64"
      ]
     },
     "execution_count": 5,
     "metadata": {},
     "output_type": "execute_result"
    }
   ],
   "source": [
    "df.notnull().sum()"
   ]
  },
  {
   "cell_type": "code",
   "execution_count": 6,
   "metadata": {},
   "outputs": [
    {
     "data": {
      "text/plain": [
       "'\\n(d) Add a new column TotalSales that contains the total sales for each prod-\\nuct of an order (i.e., QuantityOrdered * PriceEach).\\n'"
      ]
     },
     "execution_count": 6,
     "metadata": {},
     "output_type": "execute_result"
    }
   ],
   "source": [
    "\"\"\"\n",
    "(d) Add a new column TotalSales that contains the total sales for each prod-\n",
    "uct of an order (i.e., QuantityOrdered * PriceEach).\n",
    "\"\"\""
   ]
  },
  {
   "cell_type": "code",
   "execution_count": 7,
   "metadata": {},
   "outputs": [],
   "source": [
    "# total sales relates to total revenue associate with each product of an order\n",
    "df[\"TotalSales\"] = df[\"QuantityOrdered\"]*df[\"PriceEach\"]"
   ]
  },
  {
   "cell_type": "code",
   "execution_count": 8,
   "metadata": {},
   "outputs": [
    {
     "data": {
      "text/html": [
       "<div>\n",
       "<style scoped>\n",
       "    .dataframe tbody tr th:only-of-type {\n",
       "        vertical-align: middle;\n",
       "    }\n",
       "\n",
       "    .dataframe tbody tr th {\n",
       "        vertical-align: top;\n",
       "    }\n",
       "\n",
       "    .dataframe thead th {\n",
       "        text-align: right;\n",
       "    }\n",
       "</style>\n",
       "<table border=\"1\" class=\"dataframe\">\n",
       "  <thead>\n",
       "    <tr style=\"text-align: right;\">\n",
       "      <th></th>\n",
       "      <th>OrderID</th>\n",
       "      <th>ProductCode</th>\n",
       "      <th>QuantityOrdered</th>\n",
       "      <th>PriceEach</th>\n",
       "      <th>OrderDate</th>\n",
       "      <th>City</th>\n",
       "      <th>Country</th>\n",
       "      <th>TotalSales</th>\n",
       "    </tr>\n",
       "  </thead>\n",
       "  <tbody>\n",
       "    <tr>\n",
       "      <th>0</th>\n",
       "      <td>10145</td>\n",
       "      <td>S10_1678</td>\n",
       "      <td>45</td>\n",
       "      <td>83.26</td>\n",
       "      <td>8/25/2003 0:00</td>\n",
       "      <td>Pasadena</td>\n",
       "      <td>USA</td>\n",
       "      <td>83.2683.2683.2683.2683.2683.2683.2683.2683.268...</td>\n",
       "    </tr>\n",
       "    <tr>\n",
       "      <th>1</th>\n",
       "      <td>10159</td>\n",
       "      <td>S10_1678</td>\n",
       "      <td>49</td>\n",
       "      <td>100</td>\n",
       "      <td>10.10.03 00:00</td>\n",
       "      <td>San Francisco</td>\n",
       "      <td>USA</td>\n",
       "      <td>1001001001001001001001001001001001001001001001...</td>\n",
       "    </tr>\n",
       "    <tr>\n",
       "      <th>2</th>\n",
       "      <td>10168</td>\n",
       "      <td>S10_1678</td>\n",
       "      <td>36</td>\n",
       "      <td>96.66</td>\n",
       "      <td>10/28/2003 0:00</td>\n",
       "      <td>Burlingame</td>\n",
       "      <td>USA</td>\n",
       "      <td>96.6696.6696.6696.6696.6696.6696.6696.6696.669...</td>\n",
       "    </tr>\n",
       "    <tr>\n",
       "      <th>3</th>\n",
       "      <td>10180</td>\n",
       "      <td>S10_1678</td>\n",
       "      <td>29</td>\n",
       "      <td>86.13</td>\n",
       "      <td>11.11.03 00:00</td>\n",
       "      <td>Lille</td>\n",
       "      <td>France</td>\n",
       "      <td>86.1386.1386.1386.1386.1386.1386.1386.1386.138...</td>\n",
       "    </tr>\n",
       "    <tr>\n",
       "      <th>4</th>\n",
       "      <td>10188</td>\n",
       "      <td>S10_1678</td>\n",
       "      <td>48</td>\n",
       "      <td>100</td>\n",
       "      <td>11/18/2003 0:00</td>\n",
       "      <td>Bergen</td>\n",
       "      <td>Norway</td>\n",
       "      <td>1001001001001001001001001001001001001001001001...</td>\n",
       "    </tr>\n",
       "  </tbody>\n",
       "</table>\n",
       "</div>"
      ],
      "text/plain": [
       "   OrderID ProductCode  QuantityOrdered PriceEach        OrderDate  \\\n",
       "0    10145    S10_1678               45     83.26   8/25/2003 0:00   \n",
       "1    10159    S10_1678               49       100   10.10.03 00:00   \n",
       "2    10168    S10_1678               36     96.66  10/28/2003 0:00   \n",
       "3    10180    S10_1678               29     86.13   11.11.03 00:00   \n",
       "4    10188    S10_1678               48       100  11/18/2003 0:00   \n",
       "\n",
       "            City Country                                         TotalSales  \n",
       "0       Pasadena     USA  83.2683.2683.2683.2683.2683.2683.2683.2683.268...  \n",
       "1  San Francisco     USA  1001001001001001001001001001001001001001001001...  \n",
       "2     Burlingame     USA  96.6696.6696.6696.6696.6696.6696.6696.6696.669...  \n",
       "3          Lille  France  86.1386.1386.1386.1386.1386.1386.1386.1386.138...  \n",
       "4         Bergen  Norway  1001001001001001001001001001001001001001001001...  "
      ]
     },
     "execution_count": 8,
     "metadata": {},
     "output_type": "execute_result"
    }
   ],
   "source": [
    "df.head()"
   ]
  },
  {
   "cell_type": "code",
   "execution_count": 9,
   "metadata": {},
   "outputs": [
    {
     "name": "stdout",
     "output_type": "stream",
     "text": [
      "<class 'pandas.core.frame.DataFrame'>\n",
      "RangeIndex: 2810 entries, 0 to 2809\n",
      "Data columns (total 8 columns):\n",
      " #   Column           Non-Null Count  Dtype \n",
      "---  ------           --------------  ----- \n",
      " 0   OrderID          2810 non-null   int64 \n",
      " 1   ProductCode      2810 non-null   object\n",
      " 2   QuantityOrdered  2810 non-null   int64 \n",
      " 3   PriceEach        2810 non-null   object\n",
      " 4   OrderDate        2810 non-null   object\n",
      " 5   City             2810 non-null   object\n",
      " 6   Country          2810 non-null   object\n",
      " 7   TotalSales       2810 non-null   object\n",
      "dtypes: int64(2), object(6)\n",
      "memory usage: 175.8+ KB\n"
     ]
    }
   ],
   "source": [
    "df.info()"
   ]
  },
  {
   "cell_type": "code",
   "execution_count": 11,
   "metadata": {},
   "outputs": [],
   "source": [
    "df[\"PriceEach\"] = pd.to_numeric(df[\"PriceEach\"], errors=\"coerce\")"
   ]
  },
  {
   "cell_type": "code",
   "execution_count": 12,
   "metadata": {},
   "outputs": [
    {
     "data": {
      "text/plain": [
       "np.True_"
      ]
     },
     "execution_count": 12,
     "metadata": {},
     "output_type": "execute_result"
    }
   ],
   "source": [
    "df[\"PriceEach\"].isnull().values.any()"
   ]
  },
  {
   "cell_type": "code",
   "execution_count": 13,
   "metadata": {},
   "outputs": [],
   "source": [
    "df = df.dropna(subset=[\"PriceEach\"])"
   ]
  },
  {
   "cell_type": "code",
   "execution_count": 14,
   "metadata": {},
   "outputs": [
    {
     "data": {
      "text/plain": [
       "np.False_"
      ]
     },
     "execution_count": 14,
     "metadata": {},
     "output_type": "execute_result"
    }
   ],
   "source": [
    "df[\"PriceEach\"].isnull().any()"
   ]
  },
  {
   "cell_type": "code",
   "execution_count": 15,
   "metadata": {},
   "outputs": [],
   "source": [
    "df[\"TotalSales\"] = df[\"PriceEach\"]*df[\"QuantityOrdered\"]"
   ]
  },
  {
   "cell_type": "code",
   "execution_count": 16,
   "metadata": {},
   "outputs": [
    {
     "data": {
      "text/html": [
       "<div>\n",
       "<style scoped>\n",
       "    .dataframe tbody tr th:only-of-type {\n",
       "        vertical-align: middle;\n",
       "    }\n",
       "\n",
       "    .dataframe tbody tr th {\n",
       "        vertical-align: top;\n",
       "    }\n",
       "\n",
       "    .dataframe thead th {\n",
       "        text-align: right;\n",
       "    }\n",
       "</style>\n",
       "<table border=\"1\" class=\"dataframe\">\n",
       "  <thead>\n",
       "    <tr style=\"text-align: right;\">\n",
       "      <th></th>\n",
       "      <th>OrderID</th>\n",
       "      <th>ProductCode</th>\n",
       "      <th>QuantityOrdered</th>\n",
       "      <th>PriceEach</th>\n",
       "      <th>OrderDate</th>\n",
       "      <th>City</th>\n",
       "      <th>Country</th>\n",
       "      <th>TotalSales</th>\n",
       "    </tr>\n",
       "  </thead>\n",
       "  <tbody>\n",
       "    <tr>\n",
       "      <th>0</th>\n",
       "      <td>10145</td>\n",
       "      <td>S10_1678</td>\n",
       "      <td>45</td>\n",
       "      <td>83.26</td>\n",
       "      <td>8/25/2003 0:00</td>\n",
       "      <td>Pasadena</td>\n",
       "      <td>USA</td>\n",
       "      <td>3746.70</td>\n",
       "    </tr>\n",
       "    <tr>\n",
       "      <th>1</th>\n",
       "      <td>10159</td>\n",
       "      <td>S10_1678</td>\n",
       "      <td>49</td>\n",
       "      <td>100.00</td>\n",
       "      <td>10.10.03 00:00</td>\n",
       "      <td>San Francisco</td>\n",
       "      <td>USA</td>\n",
       "      <td>4900.00</td>\n",
       "    </tr>\n",
       "    <tr>\n",
       "      <th>2</th>\n",
       "      <td>10168</td>\n",
       "      <td>S10_1678</td>\n",
       "      <td>36</td>\n",
       "      <td>96.66</td>\n",
       "      <td>10/28/2003 0:00</td>\n",
       "      <td>Burlingame</td>\n",
       "      <td>USA</td>\n",
       "      <td>3479.76</td>\n",
       "    </tr>\n",
       "    <tr>\n",
       "      <th>3</th>\n",
       "      <td>10180</td>\n",
       "      <td>S10_1678</td>\n",
       "      <td>29</td>\n",
       "      <td>86.13</td>\n",
       "      <td>11.11.03 00:00</td>\n",
       "      <td>Lille</td>\n",
       "      <td>France</td>\n",
       "      <td>2497.77</td>\n",
       "    </tr>\n",
       "    <tr>\n",
       "      <th>4</th>\n",
       "      <td>10188</td>\n",
       "      <td>S10_1678</td>\n",
       "      <td>48</td>\n",
       "      <td>100.00</td>\n",
       "      <td>11/18/2003 0:00</td>\n",
       "      <td>Bergen</td>\n",
       "      <td>Norway</td>\n",
       "      <td>4800.00</td>\n",
       "    </tr>\n",
       "  </tbody>\n",
       "</table>\n",
       "</div>"
      ],
      "text/plain": [
       "   OrderID ProductCode  QuantityOrdered  PriceEach        OrderDate  \\\n",
       "0    10145    S10_1678               45      83.26   8/25/2003 0:00   \n",
       "1    10159    S10_1678               49     100.00   10.10.03 00:00   \n",
       "2    10168    S10_1678               36      96.66  10/28/2003 0:00   \n",
       "3    10180    S10_1678               29      86.13   11.11.03 00:00   \n",
       "4    10188    S10_1678               48     100.00  11/18/2003 0:00   \n",
       "\n",
       "            City Country  TotalSales  \n",
       "0       Pasadena     USA     3746.70  \n",
       "1  San Francisco     USA     4900.00  \n",
       "2     Burlingame     USA     3479.76  \n",
       "3          Lille  France     2497.77  \n",
       "4         Bergen  Norway     4800.00  "
      ]
     },
     "execution_count": 16,
     "metadata": {},
     "output_type": "execute_result"
    }
   ],
   "source": [
    "df.head()"
   ]
  },
  {
   "cell_type": "code",
   "execution_count": 17,
   "metadata": {},
   "outputs": [
    {
     "data": {
      "text/html": [
       "<div>\n",
       "<style scoped>\n",
       "    .dataframe tbody tr th:only-of-type {\n",
       "        vertical-align: middle;\n",
       "    }\n",
       "\n",
       "    .dataframe tbody tr th {\n",
       "        vertical-align: top;\n",
       "    }\n",
       "\n",
       "    .dataframe thead th {\n",
       "        text-align: right;\n",
       "    }\n",
       "</style>\n",
       "<table border=\"1\" class=\"dataframe\">\n",
       "  <thead>\n",
       "    <tr style=\"text-align: right;\">\n",
       "      <th></th>\n",
       "      <th>TotalSales</th>\n",
       "      <th>OrderID</th>\n",
       "    </tr>\n",
       "    <tr>\n",
       "      <th>OrderID</th>\n",
       "      <th></th>\n",
       "      <th></th>\n",
       "    </tr>\n",
       "  </thead>\n",
       "  <tbody>\n",
       "    <tr>\n",
       "      <th>10100</th>\n",
       "      <td>9982.25</td>\n",
       "      <td>40400</td>\n",
       "    </tr>\n",
       "    <tr>\n",
       "      <th>10101</th>\n",
       "      <td>8976.96</td>\n",
       "      <td>40404</td>\n",
       "    </tr>\n",
       "    <tr>\n",
       "      <th>10102</th>\n",
       "      <td>5955.74</td>\n",
       "      <td>20204</td>\n",
       "    </tr>\n",
       "    <tr>\n",
       "      <th>10103</th>\n",
       "      <td>47886.21</td>\n",
       "      <td>161648</td>\n",
       "    </tr>\n",
       "    <tr>\n",
       "      <th>10104</th>\n",
       "      <td>35084.80</td>\n",
       "      <td>131352</td>\n",
       "    </tr>\n",
       "    <tr>\n",
       "      <th>...</th>\n",
       "      <td>...</td>\n",
       "      <td>...</td>\n",
       "    </tr>\n",
       "    <tr>\n",
       "      <th>10421</th>\n",
       "      <td>5328.00</td>\n",
       "      <td>20842</td>\n",
       "    </tr>\n",
       "    <tr>\n",
       "      <th>10422</th>\n",
       "      <td>6166.80</td>\n",
       "      <td>20844</td>\n",
       "    </tr>\n",
       "    <tr>\n",
       "      <th>10423</th>\n",
       "      <td>8411.95</td>\n",
       "      <td>52115</td>\n",
       "    </tr>\n",
       "    <tr>\n",
       "      <th>10424</th>\n",
       "      <td>23280.98</td>\n",
       "      <td>62544</td>\n",
       "    </tr>\n",
       "    <tr>\n",
       "      <th>10425</th>\n",
       "      <td>35554.31</td>\n",
       "      <td>135525</td>\n",
       "    </tr>\n",
       "  </tbody>\n",
       "</table>\n",
       "<p>305 rows × 2 columns</p>\n",
       "</div>"
      ],
      "text/plain": [
       "         TotalSales  OrderID\n",
       "OrderID                     \n",
       "10100       9982.25    40400\n",
       "10101       8976.96    40404\n",
       "10102       5955.74    20204\n",
       "10103      47886.21   161648\n",
       "10104      35084.80   131352\n",
       "...             ...      ...\n",
       "10421       5328.00    20842\n",
       "10422       6166.80    20844\n",
       "10423       8411.95    52115\n",
       "10424      23280.98    62544\n",
       "10425      35554.31   135525\n",
       "\n",
       "[305 rows x 2 columns]"
      ]
     },
     "execution_count": 17,
     "metadata": {},
     "output_type": "execute_result"
    }
   ],
   "source": [
    "# (e) Find the total sales across all orders.\n",
    "# Here we group by orderID, and sum the TotalSales across all products of the order\n",
    "\n",
    "df.groupby(by=\"OrderID\")[[\"TotalSales\", \"OrderID\"]].sum()"
   ]
  },
  {
   "cell_type": "code",
   "execution_count": 18,
   "metadata": {},
   "outputs": [
    {
     "data": {
      "text/plain": [
       "OrderID                     10405\n",
       "ProductCode              S12_4675\n",
       "QuantityOrdered                97\n",
       "PriceEach                   93.28\n",
       "OrderDate          4/14/2005 0:00\n",
       "City                   Strasbourg\n",
       "Country                    France\n",
       "TotalSales                9048.16\n",
       "Name: 411, dtype: object"
      ]
     },
     "execution_count": 18,
     "metadata": {},
     "output_type": "execute_result"
    }
   ],
   "source": [
    "\"\"\"\n",
    "(f) Identify the product that generated the highest total sales (across all or-\n",
    "ders).\n",
    "\n",
    "Highest value in TotalSales? \n",
    "\"\"\"\n",
    "df.iloc[df[\"TotalSales\"].idxmax()]"
   ]
  },
  {
   "cell_type": "code",
   "execution_count": 30,
   "metadata": {},
   "outputs": [],
   "source": [
    "product_sales = df.groupby(by=\"ProductCode\")[\"TotalSales\"].sum()"
   ]
  },
  {
   "cell_type": "code",
   "execution_count": 37,
   "metadata": {},
   "outputs": [],
   "source": [
    "product_id = product_sales.idxmax()\n",
    "highest_sales_value = product_sales.max()"
   ]
  },
  {
   "cell_type": "code",
   "execution_count": 38,
   "metadata": {},
   "outputs": [
    {
     "data": {
      "text/plain": [
       "176026.63"
      ]
     },
     "execution_count": 38,
     "metadata": {},
     "output_type": "execute_result"
    }
   ],
   "source": [
    "highest_sales_value"
   ]
  },
  {
   "cell_type": "code",
   "execution_count": 55,
   "metadata": {},
   "outputs": [
    {
     "data": {
      "text/plain": [
       "'S18_3232'"
      ]
     },
     "execution_count": 55,
     "metadata": {},
     "output_type": "execute_result"
    }
   ],
   "source": [
    "product_id"
   ]
  },
  {
   "cell_type": "code",
   "execution_count": 41,
   "metadata": {},
   "outputs": [
    {
     "data": {
      "text/plain": [
       "np.int64(39)"
      ]
     },
     "execution_count": 41,
     "metadata": {},
     "output_type": "execute_result"
    }
   ],
   "source": [
    "highest_sales_position = product_sales.argmax()\n",
    "highest_sales_position"
   ]
  },
  {
   "cell_type": "code",
   "execution_count": 54,
   "metadata": {},
   "outputs": [
    {
     "data": {
      "text/plain": [
       "ProductCode\n",
       "S10_1678    79119.39\n",
       "S10_1949    96100.00\n",
       "S10_2016    84420.73\n",
       "S10_4698    87812.30\n",
       "S10_4757    89439.82\n",
       "Name: TotalSales, dtype: float64"
      ]
     },
     "execution_count": 54,
     "metadata": {},
     "output_type": "execute_result"
    }
   ],
   "source": [
    "product_sales.head()"
   ]
  },
  {
   "cell_type": "code",
   "execution_count": 61,
   "metadata": {},
   "outputs": [],
   "source": [
    "# (g) Find the average sales per order.\n",
    "# groupBy order, find mean, median or average of totalSales\n",
    "\n",
    "orders = df.groupby(by=\"OrderID\")[\"TotalSales\"].sum()"
   ]
  },
  {
   "cell_type": "code",
   "execution_count": 62,
   "metadata": {},
   "outputs": [],
   "source": [
    "average_sales_per_order = orders.mean()"
   ]
  },
  {
   "cell_type": "code",
   "execution_count": 63,
   "metadata": {},
   "outputs": [
    {
     "data": {
      "text/plain": [
       "np.float64(27041.486163934427)"
      ]
     },
     "execution_count": 63,
     "metadata": {},
     "output_type": "execute_result"
    }
   ],
   "source": [
    "average_sales_per_order"
   ]
  },
  {
   "cell_type": "code",
   "execution_count": null,
   "metadata": {},
   "outputs": [
    {
     "data": {
      "text/plain": [
       "OrderID\n",
       "10100    2495.562500\n",
       "10101    2244.240000\n",
       "10102    2977.870000\n",
       "10103    2992.888125\n",
       "10104    2698.830769\n",
       "            ...     \n",
       "10421    2664.000000\n",
       "10422    3083.400000\n",
       "10423    1682.390000\n",
       "10424    3880.163333\n",
       "10425    2734.946923\n",
       "Name: TotalSales, Length: 305, dtype: float64"
      ]
     },
     "execution_count": 59,
     "metadata": {},
     "output_type": "execute_result"
    }
   ],
   "source": []
  },
  {
   "cell_type": "code",
   "execution_count": null,
   "metadata": {},
   "outputs": [],
   "source": [
    "\"\"\" \n",
    "(g) Find the average sales per order.\n",
    "\n",
    "(h) Determine the city with the highest number of orders.\n",
    "(i) Plot a bar chart showing total sales per city.\n",
    "(j) Save the dataframe in a new file with the name modified sales data.csv.\n",
    "\"\"\""
   ]
  },
  {
   "cell_type": "code",
   "execution_count": 64,
   "metadata": {},
   "outputs": [
    {
     "data": {
      "text/html": [
       "<div>\n",
       "<style scoped>\n",
       "    .dataframe tbody tr th:only-of-type {\n",
       "        vertical-align: middle;\n",
       "    }\n",
       "\n",
       "    .dataframe tbody tr th {\n",
       "        vertical-align: top;\n",
       "    }\n",
       "\n",
       "    .dataframe thead th {\n",
       "        text-align: right;\n",
       "    }\n",
       "</style>\n",
       "<table border=\"1\" class=\"dataframe\">\n",
       "  <thead>\n",
       "    <tr style=\"text-align: right;\">\n",
       "      <th></th>\n",
       "      <th>OrderID</th>\n",
       "      <th>ProductCode</th>\n",
       "      <th>QuantityOrdered</th>\n",
       "      <th>PriceEach</th>\n",
       "      <th>OrderDate</th>\n",
       "      <th>City</th>\n",
       "      <th>Country</th>\n",
       "      <th>TotalSales</th>\n",
       "    </tr>\n",
       "  </thead>\n",
       "  <tbody>\n",
       "    <tr>\n",
       "      <th>0</th>\n",
       "      <td>10145</td>\n",
       "      <td>S10_1678</td>\n",
       "      <td>45</td>\n",
       "      <td>83.26</td>\n",
       "      <td>8/25/2003 0:00</td>\n",
       "      <td>Pasadena</td>\n",
       "      <td>USA</td>\n",
       "      <td>3746.70</td>\n",
       "    </tr>\n",
       "    <tr>\n",
       "      <th>1</th>\n",
       "      <td>10159</td>\n",
       "      <td>S10_1678</td>\n",
       "      <td>49</td>\n",
       "      <td>100.00</td>\n",
       "      <td>10.10.03 00:00</td>\n",
       "      <td>San Francisco</td>\n",
       "      <td>USA</td>\n",
       "      <td>4900.00</td>\n",
       "    </tr>\n",
       "    <tr>\n",
       "      <th>2</th>\n",
       "      <td>10168</td>\n",
       "      <td>S10_1678</td>\n",
       "      <td>36</td>\n",
       "      <td>96.66</td>\n",
       "      <td>10/28/2003 0:00</td>\n",
       "      <td>Burlingame</td>\n",
       "      <td>USA</td>\n",
       "      <td>3479.76</td>\n",
       "    </tr>\n",
       "    <tr>\n",
       "      <th>3</th>\n",
       "      <td>10180</td>\n",
       "      <td>S10_1678</td>\n",
       "      <td>29</td>\n",
       "      <td>86.13</td>\n",
       "      <td>11.11.03 00:00</td>\n",
       "      <td>Lille</td>\n",
       "      <td>France</td>\n",
       "      <td>2497.77</td>\n",
       "    </tr>\n",
       "    <tr>\n",
       "      <th>4</th>\n",
       "      <td>10188</td>\n",
       "      <td>S10_1678</td>\n",
       "      <td>48</td>\n",
       "      <td>100.00</td>\n",
       "      <td>11/18/2003 0:00</td>\n",
       "      <td>Bergen</td>\n",
       "      <td>Norway</td>\n",
       "      <td>4800.00</td>\n",
       "    </tr>\n",
       "  </tbody>\n",
       "</table>\n",
       "</div>"
      ],
      "text/plain": [
       "   OrderID ProductCode  QuantityOrdered  PriceEach        OrderDate  \\\n",
       "0    10145    S10_1678               45      83.26   8/25/2003 0:00   \n",
       "1    10159    S10_1678               49     100.00   10.10.03 00:00   \n",
       "2    10168    S10_1678               36      96.66  10/28/2003 0:00   \n",
       "3    10180    S10_1678               29      86.13   11.11.03 00:00   \n",
       "4    10188    S10_1678               48     100.00  11/18/2003 0:00   \n",
       "\n",
       "            City Country  TotalSales  \n",
       "0       Pasadena     USA     3746.70  \n",
       "1  San Francisco     USA     4900.00  \n",
       "2     Burlingame     USA     3479.76  \n",
       "3          Lille  France     2497.77  \n",
       "4         Bergen  Norway     4800.00  "
      ]
     },
     "execution_count": 64,
     "metadata": {},
     "output_type": "execute_result"
    }
   ],
   "source": [
    "\"\"\"\n",
    "(h) Determine the city with the highest number of orders.\n",
    "\"\"\"\n",
    "df.head()"
   ]
  },
  {
   "cell_type": "code",
   "execution_count": 81,
   "metadata": {},
   "outputs": [],
   "source": [
    "city_orders = df.groupby(by=\"City\")[\"OrderID\"].nunique()"
   ]
  },
  {
   "cell_type": "code",
   "execution_count": 84,
   "metadata": {},
   "outputs": [
    {
     "name": "stdout",
     "output_type": "stream",
     "text": [
      "Madrid\n"
     ]
    }
   ],
   "source": [
    "city_name = city_orders.idxmax()\n",
    "print(city_name)"
   ]
  },
  {
   "cell_type": "code",
   "execution_count": 85,
   "metadata": {},
   "outputs": [
    {
     "name": "stdout",
     "output_type": "stream",
     "text": [
      "31\n"
     ]
    }
   ],
   "source": [
    "order_value = city_orders.max()\n",
    "print(order_value)"
   ]
  },
  {
   "cell_type": "code",
   "execution_count": 93,
   "metadata": {},
   "outputs": [
    {
     "data": {
      "text/plain": [
       "'Madrid'"
      ]
     },
     "execution_count": 93,
     "metadata": {},
     "output_type": "execute_result"
    }
   ],
   "source": [
    "\"\"\" \n",
    "(i) Plot a bar chart showing total sales per city.\n",
    "(j) Save the dataframe in a new file with the name modified sales data.csv.\n",
    "\"\"\"\n",
    "city_sales = df.groupby(by=\"City\")[\"TotalSales\"].sum()\n",
    "\n",
    "city_sales.idxmax()"
   ]
  },
  {
   "cell_type": "code",
   "execution_count": 89,
   "metadata": {},
   "outputs": [],
   "source": [
    "import matplotlib.pyplot as plt "
   ]
  },
  {
   "cell_type": "code",
   "execution_count": null,
   "metadata": {},
   "outputs": [],
   "source": []
  },
  {
   "cell_type": "code",
   "execution_count": 97,
   "metadata": {},
   "outputs": [
    {
     "data": {
      "image/png": "[encoded data removed]",
      "text/plain": [
       "<Figure size 800x600 with 1 Axes>"
      ]
     },
     "metadata": {},
     "output_type": "display_data"
    }
   ],
   "source": [
    "# Plotting the bar chart\n",
    "plt.figure(figsize=(8, 6))\n",
    "city_sales.plot(kind='bar', color='skyblue')\n",
    "plt.title('Total Sales per City')\n",
    "plt.xlabel('City')\n",
    "plt.ylabel('Total Sales')\n",
    "plt.xticks(rotation=90)  # Rotate x-axis labels for better readability\n",
    "plt.tight_layout()  # Adjust layout to fit labels\n",
    "plt.show()"
   ]
  },
  {
   "cell_type": "code",
   "execution_count": 99,
   "metadata": {},
   "outputs": [],
   "source": [
    "df.to_csv(\"sales_data_modified.csv\")"
   ]
  },
  {
   "cell_type": "code",
   "execution_count": null,
   "metadata": {},
   "outputs": [],
   "source": []
  }
 ],
 "metadata": {
  "kernelspec": {
   "display_name": "env_first",
   "language": "python",
   "name": "python3"
  },
  "language_info": {
   "codemirror_mode": {
    "name": "ipython",
    "version": 3
   },
   "file_extension": ".py",
   "mimetype": "text/x-python",
   "name": "python",
   "nbconvert_exporter": "python",
   "pygments_lexer": "ipython3",
   "version": "3.9.21"
  }
 },
 "nbformat": 4,
 "nbformat_minor": 2
}
