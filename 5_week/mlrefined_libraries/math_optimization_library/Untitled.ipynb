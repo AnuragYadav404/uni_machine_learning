{
 "cells": [
  {
   "cell_type": "code",
   "execution_count": null,
   "id": "de0897dd",
   "metadata": {},
   "outputs": [],
   "source": [
    "\n",
    "    ### plot points and connectors in input space in 3d plot      colorspec[k]   \n",
    "    def show_inputspace_path(self,w_hist,ax):\n",
    "        # make colors for plot\n",
    "        colorspec = self.make_colorspec(w_hist)\n",
    "        \n",
    "        for k in range(len(w_hist)):\n",
    "            pt1 = w_hist[k]\n",
    "            ax.scatter(pt1[0],pt1[1],0,s = 60, c = np.reshape(colorspec[k], (-1, 3)), edgecolor = 'k',linewidth = 0.5*math.sqrt((1/(float(k) + 1))),zorder = 3)\n",
    "            if k < len(w_hist)-1:\n",
    "                pt2 = w_hist[k+1]\n",
    "                if np.linalg.norm(pt1 - pt2) > 10**(-3):\n",
    "                    # draw arrow in left plot\n",
    "                    a = Arrow3D([pt1[0],pt2[0]], [pt1[1],pt2[1]], [0, 0], mutation_scale=10, lw=2, arrowstyle=\"-|>\", color=\"k\")\n",
    "                    ax.add_artist(a)\n",
    "        "
   ]
  }
 ],
 "metadata": {
  "kernelspec": {
   "display_name": "Python 3 (ipykernel)",
   "language": "python",
   "name": "python3"
  },
  "language_info": {
   "codemirror_mode": {
    "name": "ipython",
    "version": 3
   },
   "file_extension": ".py",
   "mimetype": "text/x-python",
   "name": "python",
   "nbconvert_exporter": "python",
   "pygments_lexer": "ipython3",
   "version": "3.11.5"
  }
 },
 "nbformat": 4,
 "nbformat_minor": 5
}
