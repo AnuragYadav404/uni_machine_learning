{
 "cells": [
  {
   "cell_type": "code",
   "execution_count": 1,
   "metadata": {},
   "outputs": [],
   "source": [
    "# need to implement sigmoid function\n",
    "import numpy as np\n",
    "\n",
    "def sigmoid(x):\n",
    "    return (1/(1+np.exp(-x)))\n",
    "\n"
   ]
  },
  {
   "cell_type": "code",
   "execution_count": 10,
   "metadata": {},
   "outputs": [
    {
     "name": "stdout",
     "output_type": "stream",
     "text": [
      "Sigmoid is:  0.7310585786300049\n",
      "1 - sigmoid is:  0.7310585786300049\n",
      "Sigmoid is:  0.2689414213699951\n",
      "1 - sigmoid is:  0.2689414213699951\n"
     ]
    }
   ],
   "source": [
    "values = [-1, 1]\n",
    "for val in values:\n",
    "    print(\"Sigmoid is: \", sigmoid(-val))\n",
    "    print(\"1 - sigmoid is: \", 1-sigmoid(val))"
   ]
  },
  {
   "cell_type": "code",
   "execution_count": 11,
   "metadata": {},
   "outputs": [],
   "source": [
    "# Cross entropy loss:\n",
    "# tanh function\n",
    "\n",
    "\n",
    "def tanh(x):\n",
    "    return (2*sigmoid(x))-1"
   ]
  },
  {
   "cell_type": "code",
   "execution_count": 12,
   "metadata": {},
   "outputs": [
    {
     "name": "stdout",
     "output_type": "stream",
     "text": [
      "Sigmoid is:  0.2689414213699951\n",
      "tanh is:  -0.4621171572600098\n",
      "Sigmoid is:  0.7310585786300049\n",
      "tanh is:  0.4621171572600098\n"
     ]
    }
   ],
   "source": [
    "for val in values:\n",
    "    print(\"Sigmoid is: \", sigmoid(val))\n",
    "    print(\"tanh is: \", tanh(val))"
   ]
  },
  {
   "cell_type": "code",
   "execution_count": null,
   "metadata": {},
   "outputs": [],
   "source": []
  }
 ],
 "metadata": {
  "kernelspec": {
   "display_name": "env_first",
   "language": "python",
   "name": "python3"
  },
  "language_info": {
   "codemirror_mode": {
    "name": "ipython",
    "version": 3
   },
   "file_extension": ".py",
   "mimetype": "text/x-python",
   "name": "python",
   "nbconvert_exporter": "python",
   "pygments_lexer": "ipython3",
   "version": "3.9.21"
  }
 },
 "nbformat": 4,
 "nbformat_minor": 2
}
